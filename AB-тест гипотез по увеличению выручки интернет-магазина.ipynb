{
 "cells": [
  {
   "cell_type": "markdown",
   "id": "389825b8-a974-4a64-9f1f-8ec54aa84f3c",
   "metadata": {},
   "source": [
    "# A/B-тест гипотез по увеличению выручки интернет-магазина"
   ]
  },
  {
   "cell_type": "markdown",
   "id": "14a147ff-7fe9-49d4-8521-e3862378b755",
   "metadata": {},
   "source": [
    "Цель настоящего проекта - проанализировать предложения отдела маркетинга интернет-магазина, направленные на увеличение выручки. Предложения сформулированы в виде гипотез. Задача - посредством A/B-тестирования проверить эти гипотезы."
   ]
  },
  {
   "cell_type": "code",
   "execution_count": 1,
   "id": "3b588d5f-856b-4661-a680-48dfb89f2552",
   "metadata": {},
   "outputs": [],
   "source": [
    "import pandas as pd\n",
    "import matplotlib.pyplot as plt\n",
    "import scipy.stats as stats\n",
    "import numpy as np\n",
    "\n",
    "pd.set_option('display.max_colwidth', None)"
   ]
  },
  {
   "cell_type": "code",
   "execution_count": 2,
   "id": "977b8d60-a0ea-4df0-b593-1d1813de75f7",
   "metadata": {},
   "outputs": [],
   "source": [
    "try:\n",
    "    hypothesis = pd.read_csv('hypothesis.csv')\n",
    "    orders = pd.read_csv('orders.csv')\n",
    "    visitors = pd.read_csv('visitors.csv')\n",
    "except:\n",
    "    hypothesis = pd.read_csv('datasets/hypothesis.csv')\n",
    "    orders = pd.read_csv('datasets/orders.csv')\n",
    "    visitors = pd.read_csv('datasets/visitors.csv')"
   ]
  },
  {
   "cell_type": "code",
   "execution_count": 3,
   "id": "b0ed2470-d38e-45eb-827f-7f3b67a87a52",
   "metadata": {},
   "outputs": [
    {
     "name": "stdout",
     "output_type": "stream",
     "text": [
      "<class 'pandas.core.frame.DataFrame'>\n",
      "RangeIndex: 9 entries, 0 to 8\n",
      "Data columns (total 5 columns):\n",
      " #   Column      Non-Null Count  Dtype \n",
      "---  ------      --------------  ----- \n",
      " 0   Hypothesis  9 non-null      object\n",
      " 1   Reach       9 non-null      int64 \n",
      " 2   Impact      9 non-null      int64 \n",
      " 3   Confidence  9 non-null      int64 \n",
      " 4   Efforts     9 non-null      int64 \n",
      "dtypes: int64(4), object(1)\n",
      "memory usage: 488.0+ bytes\n"
     ]
    },
    {
     "data": {
      "text/html": [
       "<div>\n",
       "<style scoped>\n",
       "    .dataframe tbody tr th:only-of-type {\n",
       "        vertical-align: middle;\n",
       "    }\n",
       "\n",
       "    .dataframe tbody tr th {\n",
       "        vertical-align: top;\n",
       "    }\n",
       "\n",
       "    .dataframe thead th {\n",
       "        text-align: right;\n",
       "    }\n",
       "</style>\n",
       "<table border=\"1\" class=\"dataframe\">\n",
       "  <thead>\n",
       "    <tr style=\"text-align: right;\">\n",
       "      <th></th>\n",
       "      <th>Hypothesis</th>\n",
       "      <th>Reach</th>\n",
       "      <th>Impact</th>\n",
       "      <th>Confidence</th>\n",
       "      <th>Efforts</th>\n",
       "    </tr>\n",
       "  </thead>\n",
       "  <tbody>\n",
       "    <tr>\n",
       "      <th>0</th>\n",
       "      <td>Добавить два новых канала привлечения трафика, что позволит привлекать на 30% больше пользователей</td>\n",
       "      <td>3</td>\n",
       "      <td>10</td>\n",
       "      <td>8</td>\n",
       "      <td>6</td>\n",
       "    </tr>\n",
       "    <tr>\n",
       "      <th>1</th>\n",
       "      <td>Запустить собственную службу доставки, что сократит срок доставки заказов</td>\n",
       "      <td>2</td>\n",
       "      <td>5</td>\n",
       "      <td>4</td>\n",
       "      <td>10</td>\n",
       "    </tr>\n",
       "    <tr>\n",
       "      <th>2</th>\n",
       "      <td>Добавить блоки рекомендаций товаров на сайт интернет магазина, чтобы повысить конверсию и средний чек заказа</td>\n",
       "      <td>8</td>\n",
       "      <td>3</td>\n",
       "      <td>7</td>\n",
       "      <td>3</td>\n",
       "    </tr>\n",
       "    <tr>\n",
       "      <th>3</th>\n",
       "      <td>Изменить структура категорий, что увеличит конверсию, т.к. пользователи быстрее найдут нужный товар</td>\n",
       "      <td>8</td>\n",
       "      <td>3</td>\n",
       "      <td>3</td>\n",
       "      <td>8</td>\n",
       "    </tr>\n",
       "    <tr>\n",
       "      <th>4</th>\n",
       "      <td>Изменить цвет фона главной страницы, чтобы увеличить вовлеченность пользователей</td>\n",
       "      <td>3</td>\n",
       "      <td>1</td>\n",
       "      <td>1</td>\n",
       "      <td>1</td>\n",
       "    </tr>\n",
       "    <tr>\n",
       "      <th>5</th>\n",
       "      <td>Добавить страницу отзывов клиентов о магазине, что позволит увеличить количество заказов</td>\n",
       "      <td>3</td>\n",
       "      <td>2</td>\n",
       "      <td>2</td>\n",
       "      <td>3</td>\n",
       "    </tr>\n",
       "    <tr>\n",
       "      <th>6</th>\n",
       "      <td>Показать на главной странице баннеры с актуальными акциями и распродажами, чтобы увеличить конверсию</td>\n",
       "      <td>5</td>\n",
       "      <td>3</td>\n",
       "      <td>8</td>\n",
       "      <td>3</td>\n",
       "    </tr>\n",
       "    <tr>\n",
       "      <th>7</th>\n",
       "      <td>Добавить форму подписки на все основные страницы, чтобы собрать базу клиентов для email-рассылок</td>\n",
       "      <td>10</td>\n",
       "      <td>7</td>\n",
       "      <td>8</td>\n",
       "      <td>5</td>\n",
       "    </tr>\n",
       "    <tr>\n",
       "      <th>8</th>\n",
       "      <td>Запустить акцию, дающую скидку на товар в день рождения</td>\n",
       "      <td>1</td>\n",
       "      <td>9</td>\n",
       "      <td>9</td>\n",
       "      <td>5</td>\n",
       "    </tr>\n",
       "  </tbody>\n",
       "</table>\n",
       "</div>"
      ],
      "text/plain": [
       "                                                                                                     Hypothesis  \\\n",
       "0            Добавить два новых канала привлечения трафика, что позволит привлекать на 30% больше пользователей   \n",
       "1                                     Запустить собственную службу доставки, что сократит срок доставки заказов   \n",
       "2  Добавить блоки рекомендаций товаров на сайт интернет магазина, чтобы повысить конверсию и средний чек заказа   \n",
       "3           Изменить структура категорий, что увеличит конверсию, т.к. пользователи быстрее найдут нужный товар   \n",
       "4                              Изменить цвет фона главной страницы, чтобы увеличить вовлеченность пользователей   \n",
       "5                      Добавить страницу отзывов клиентов о магазине, что позволит увеличить количество заказов   \n",
       "6          Показать на главной странице баннеры с актуальными акциями и распродажами, чтобы увеличить конверсию   \n",
       "7              Добавить форму подписки на все основные страницы, чтобы собрать базу клиентов для email-рассылок   \n",
       "8                                                       Запустить акцию, дающую скидку на товар в день рождения   \n",
       "\n",
       "   Reach  Impact  Confidence  Efforts  \n",
       "0      3      10           8        6  \n",
       "1      2       5           4       10  \n",
       "2      8       3           7        3  \n",
       "3      8       3           3        8  \n",
       "4      3       1           1        1  \n",
       "5      3       2           2        3  \n",
       "6      5       3           8        3  \n",
       "7     10       7           8        5  \n",
       "8      1       9           9        5  "
      ]
     },
     "execution_count": 3,
     "metadata": {},
     "output_type": "execute_result"
    }
   ],
   "source": [
    "hypothesis.info()\n",
    "hypothesis.head(9)"
   ]
  },
  {
   "cell_type": "markdown",
   "id": "40ab8a2c-0eb2-49b6-b34c-db3a98ff6fa9",
   "metadata": {},
   "source": [
    "Датасет hypothesis содержит список из 9 гипотез, для каждой из которых даны оценки параметров Reach, Impact, Confidence и Efforts."
   ]
  },
  {
   "cell_type": "code",
   "execution_count": 4,
   "id": "5144096a-0751-43f5-8cdd-1cd161cd9b66",
   "metadata": {},
   "outputs": [
    {
     "name": "stdout",
     "output_type": "stream",
     "text": [
      "<class 'pandas.core.frame.DataFrame'>\n",
      "RangeIndex: 1197 entries, 0 to 1196\n",
      "Data columns (total 5 columns):\n",
      " #   Column         Non-Null Count  Dtype \n",
      "---  ------         --------------  ----- \n",
      " 0   transactionId  1197 non-null   int64 \n",
      " 1   visitorId      1197 non-null   int64 \n",
      " 2   date           1197 non-null   object\n",
      " 3   revenue        1197 non-null   int64 \n",
      " 4   group          1197 non-null   object\n",
      "dtypes: int64(3), object(2)\n",
      "memory usage: 46.9+ KB\n"
     ]
    },
    {
     "data": {
      "text/html": [
       "<div>\n",
       "<style scoped>\n",
       "    .dataframe tbody tr th:only-of-type {\n",
       "        vertical-align: middle;\n",
       "    }\n",
       "\n",
       "    .dataframe tbody tr th {\n",
       "        vertical-align: top;\n",
       "    }\n",
       "\n",
       "    .dataframe thead th {\n",
       "        text-align: right;\n",
       "    }\n",
       "</style>\n",
       "<table border=\"1\" class=\"dataframe\">\n",
       "  <thead>\n",
       "    <tr style=\"text-align: right;\">\n",
       "      <th></th>\n",
       "      <th>transactionId</th>\n",
       "      <th>visitorId</th>\n",
       "      <th>date</th>\n",
       "      <th>revenue</th>\n",
       "      <th>group</th>\n",
       "    </tr>\n",
       "  </thead>\n",
       "  <tbody>\n",
       "    <tr>\n",
       "      <th>0</th>\n",
       "      <td>3667963787</td>\n",
       "      <td>3312258926</td>\n",
       "      <td>2019-08-15</td>\n",
       "      <td>1650</td>\n",
       "      <td>B</td>\n",
       "    </tr>\n",
       "    <tr>\n",
       "      <th>1</th>\n",
       "      <td>2804400009</td>\n",
       "      <td>3642806036</td>\n",
       "      <td>2019-08-15</td>\n",
       "      <td>730</td>\n",
       "      <td>B</td>\n",
       "    </tr>\n",
       "    <tr>\n",
       "      <th>2</th>\n",
       "      <td>2961555356</td>\n",
       "      <td>4069496402</td>\n",
       "      <td>2019-08-15</td>\n",
       "      <td>400</td>\n",
       "      <td>A</td>\n",
       "    </tr>\n",
       "    <tr>\n",
       "      <th>3</th>\n",
       "      <td>3797467345</td>\n",
       "      <td>1196621759</td>\n",
       "      <td>2019-08-15</td>\n",
       "      <td>9759</td>\n",
       "      <td>B</td>\n",
       "    </tr>\n",
       "    <tr>\n",
       "      <th>4</th>\n",
       "      <td>2282983706</td>\n",
       "      <td>2322279887</td>\n",
       "      <td>2019-08-15</td>\n",
       "      <td>2308</td>\n",
       "      <td>B</td>\n",
       "    </tr>\n",
       "  </tbody>\n",
       "</table>\n",
       "</div>"
      ],
      "text/plain": [
       "   transactionId   visitorId        date  revenue group\n",
       "0     3667963787  3312258926  2019-08-15     1650     B\n",
       "1     2804400009  3642806036  2019-08-15      730     B\n",
       "2     2961555356  4069496402  2019-08-15      400     A\n",
       "3     3797467345  1196621759  2019-08-15     9759     B\n",
       "4     2282983706  2322279887  2019-08-15     2308     B"
      ]
     },
     "execution_count": 4,
     "metadata": {},
     "output_type": "execute_result"
    }
   ],
   "source": [
    "orders.info()\n",
    "orders.head()"
   ]
  },
  {
   "cell_type": "markdown",
   "id": "e3d1f4b3-e26f-47d8-a2ec-3f45528a405e",
   "metadata": {},
   "source": [
    "Датасет orders содержит список заказов, совершенных посетителями двух тестовых групп, в том числе id заказа и посетителя, дату и стоимость заказа, группу посетителя."
   ]
  },
  {
   "cell_type": "code",
   "execution_count": 5,
   "id": "9b969372-0913-41e7-a3db-530b10c96e46",
   "metadata": {},
   "outputs": [
    {
     "name": "stdout",
     "output_type": "stream",
     "text": [
      "<class 'pandas.core.frame.DataFrame'>\n",
      "RangeIndex: 62 entries, 0 to 61\n",
      "Data columns (total 3 columns):\n",
      " #   Column    Non-Null Count  Dtype \n",
      "---  ------    --------------  ----- \n",
      " 0   date      62 non-null     object\n",
      " 1   group     62 non-null     object\n",
      " 2   visitors  62 non-null     int64 \n",
      "dtypes: int64(1), object(2)\n",
      "memory usage: 1.6+ KB\n"
     ]
    },
    {
     "data": {
      "text/html": [
       "<div>\n",
       "<style scoped>\n",
       "    .dataframe tbody tr th:only-of-type {\n",
       "        vertical-align: middle;\n",
       "    }\n",
       "\n",
       "    .dataframe tbody tr th {\n",
       "        vertical-align: top;\n",
       "    }\n",
       "\n",
       "    .dataframe thead th {\n",
       "        text-align: right;\n",
       "    }\n",
       "</style>\n",
       "<table border=\"1\" class=\"dataframe\">\n",
       "  <thead>\n",
       "    <tr style=\"text-align: right;\">\n",
       "      <th></th>\n",
       "      <th>date</th>\n",
       "      <th>group</th>\n",
       "      <th>visitors</th>\n",
       "    </tr>\n",
       "  </thead>\n",
       "  <tbody>\n",
       "    <tr>\n",
       "      <th>0</th>\n",
       "      <td>2019-08-01</td>\n",
       "      <td>A</td>\n",
       "      <td>719</td>\n",
       "    </tr>\n",
       "    <tr>\n",
       "      <th>1</th>\n",
       "      <td>2019-08-02</td>\n",
       "      <td>A</td>\n",
       "      <td>619</td>\n",
       "    </tr>\n",
       "    <tr>\n",
       "      <th>2</th>\n",
       "      <td>2019-08-03</td>\n",
       "      <td>A</td>\n",
       "      <td>507</td>\n",
       "    </tr>\n",
       "    <tr>\n",
       "      <th>3</th>\n",
       "      <td>2019-08-04</td>\n",
       "      <td>A</td>\n",
       "      <td>717</td>\n",
       "    </tr>\n",
       "    <tr>\n",
       "      <th>4</th>\n",
       "      <td>2019-08-05</td>\n",
       "      <td>A</td>\n",
       "      <td>756</td>\n",
       "    </tr>\n",
       "  </tbody>\n",
       "</table>\n",
       "</div>"
      ],
      "text/plain": [
       "         date group  visitors\n",
       "0  2019-08-01     A       719\n",
       "1  2019-08-02     A       619\n",
       "2  2019-08-03     A       507\n",
       "3  2019-08-04     A       717\n",
       "4  2019-08-05     A       756"
      ]
     },
     "execution_count": 5,
     "metadata": {},
     "output_type": "execute_result"
    }
   ],
   "source": [
    "visitors.info()\n",
    "visitors.head()"
   ]
  },
  {
   "cell_type": "markdown",
   "id": "000b4fc8-a8d2-4978-b7c0-4e2391acb78a",
   "metadata": {},
   "source": [
    "Датасет visitors содержит данные о количестве посетителей магазина в каждый день тестового периода."
   ]
  },
  {
   "cell_type": "code",
   "execution_count": 6,
   "id": "fe24ebb0-1b1e-4f99-a02f-dc394013ed5b",
   "metadata": {},
   "outputs": [
    {
     "name": "stdout",
     "output_type": "stream",
     "text": [
      "31\n",
      "2019-08-01\n",
      "2019-08-31\n"
     ]
    }
   ],
   "source": [
    "print(orders['date'].nunique())\n",
    "print(orders['date'].min())\n",
    "print(orders['date'].max())"
   ]
  },
  {
   "cell_type": "markdown",
   "id": "2808b9ad-4028-4342-9c84-5ca65e6ca3c1",
   "metadata": {},
   "source": [
    "К настоящему моменту A/B-тест идет 31 день, с 1 по 31.08.2019."
   ]
  },
  {
   "cell_type": "markdown",
   "id": "1064bbf8-bfdc-4816-a0d1-57982533df6d",
   "metadata": {},
   "source": [
    "## Предобработка данных"
   ]
  },
  {
   "cell_type": "code",
   "execution_count": 7,
   "id": "cb2e49f0-6677-4819-bdbe-b997e97a5b9e",
   "metadata": {},
   "outputs": [],
   "source": [
    "# форматируем названия колонок\n",
    "hypothesis.rename(\n",
    "    lambda column_name: column_name.lower(),\n",
    "    axis='columns',\n",
    "    inplace=True\n",
    ")\n",
    "\n",
    "orders.rename(\n",
    "    columns={'transactionId': 'transaction_id', 'visitorId': 'visitor_id'},\n",
    "    inplace=True\n",
    ")"
   ]
  },
  {
   "cell_type": "code",
   "execution_count": 8,
   "id": "834cafff-1543-4e9e-ae27-b1c71bbd7228",
   "metadata": {},
   "outputs": [],
   "source": [
    "# преобразуем тип данных в колонках date с object на datetime\n",
    "orders['date'] = orders['date'].map(\n",
    "    lambda dt: pd.to_datetime(dt)\n",
    ")\n",
    "visitors['date'] = visitors['date'].map(\n",
    "    lambda dt: pd.to_datetime(dt)\n",
    ")"
   ]
  },
  {
   "cell_type": "code",
   "execution_count": 9,
   "id": "4700f411-664d-423e-a4f3-ce099ee4183f",
   "metadata": {},
   "outputs": [
    {
     "name": "stdout",
     "output_type": "stream",
     "text": [
      "количество пропусков в датасете hypothesis:\n",
      " hypothesis    0\n",
      "reach         0\n",
      "impact        0\n",
      "confidence    0\n",
      "efforts       0\n",
      "dtype: int64 \n",
      "\n",
      "количество пропусков в датасете orders:\n",
      " transaction_id    0\n",
      "visitor_id        0\n",
      "date              0\n",
      "revenue           0\n",
      "group             0\n",
      "dtype: int64 \n",
      "\n",
      "количество пропусков в датасете visitors:\n",
      " date        0\n",
      "group       0\n",
      "visitors    0\n",
      "dtype: int64 \n",
      "\n"
     ]
    }
   ],
   "source": [
    "# проверим данные на наличие пропусков\n",
    "print('количество пропусков в датасете hypothesis:\\n', hypothesis.isna().sum(), '\\n')\n",
    "print('количество пропусков в датасете orders:\\n', orders.isna().sum(), '\\n')\n",
    "print('количество пропусков в датасете visitors:\\n', visitors.isna().sum(), '\\n')"
   ]
  },
  {
   "cell_type": "markdown",
   "id": "8c924080-9d93-40fb-b4a1-c53bd6a8968c",
   "metadata": {},
   "source": [
    "Пропущенных значений нет ни в одном датасете."
   ]
  },
  {
   "cell_type": "code",
   "execution_count": 10,
   "id": "a626b14f-d909-4743-9d73-310715dd8c5c",
   "metadata": {},
   "outputs": [
    {
     "name": "stdout",
     "output_type": "stream",
     "text": [
      "количество пропусков в датасете hypothesis:\n",
      " 0 \n",
      "\n",
      "количество пропусков в датасете orders:\n",
      " 0 \n",
      "\n",
      "количество пропусков в датасете visitors:\n",
      " 0 \n",
      "\n"
     ]
    }
   ],
   "source": [
    "# проверим данные на наличие дубликатов\n",
    "print('количество пропусков в датасете hypothesis:\\n', hypothesis.duplicated().sum(), '\\n')\n",
    "print('количество пропусков в датасете orders:\\n', orders.duplicated().sum(), '\\n')\n",
    "print('количество пропусков в датасете visitors:\\n', visitors.duplicated().sum(), '\\n')"
   ]
  },
  {
   "cell_type": "markdown",
   "id": "0d96887a-de45-4956-bb4b-1cb2544cb56e",
   "metadata": {},
   "source": [
    "Дублированные значения в датасетах также отсутствуют."
   ]
  },
  {
   "cell_type": "code",
   "execution_count": 34,
   "id": "77d6e09b",
   "metadata": {
    "scrolled": true
   },
   "outputs": [
    {
     "data": {
      "text/plain": [
       "transaction_id    468\n",
       "visitor_id        445\n",
       "date               31\n",
       "revenue           361\n",
       "group               1\n",
       "dtype: int64"
      ]
     },
     "execution_count": 34,
     "metadata": {},
     "output_type": "execute_result"
    }
   ],
   "source": [
    "orders.query('group == \"A\"').nunique()"
   ]
  },
  {
   "cell_type": "code",
   "execution_count": 12,
   "id": "4560ce91",
   "metadata": {
    "scrolled": true
   },
   "outputs": [
    {
     "data": {
      "text/plain": [
       "transaction_id    640\n",
       "visitor_id        586\n",
       "date               31\n",
       "revenue           450\n",
       "group               1\n",
       "dtype: int64"
      ]
     },
     "execution_count": 12,
     "metadata": {},
     "output_type": "execute_result"
    }
   ],
   "source": [
    "orders.query('group == \"B\"').nunique()"
   ]
  },
  {
   "cell_type": "code",
   "execution_count": 13,
   "id": "49d520b5",
   "metadata": {},
   "outputs": [
    {
     "data": {
      "text/plain": [
       "transaction_id    1197\n",
       "visitor_id        1031\n",
       "date                31\n",
       "revenue            713\n",
       "group                2\n",
       "dtype: int64"
      ]
     },
     "execution_count": 13,
     "metadata": {},
     "output_type": "execute_result"
    }
   ],
   "source": [
    "orders.nunique()"
   ]
  },
  {
   "cell_type": "code",
   "execution_count": 14,
   "id": "8cdac58f",
   "metadata": {},
   "outputs": [
    {
     "name": "stdout",
     "output_type": "stream",
     "text": [
      "Количество покупателей, находящихся в обеих тестовых группах: 58\n"
     ]
    }
   ],
   "source": [
    "# уникальные покупатели в каждой группе\n",
    "buyers_a = orders.query('group == \"A\"')['visitor_id'].unique()\n",
    "buyers_b = orders.query('group == \"B\"')['visitor_id'].unique()\n",
    "\n",
    "# покупатели, встречающиеся в обеих группах\n",
    "cross_buyers = (\n",
    "    orders.loc[\n",
    "        orders['visitor_id'].isin(buyers_a) &\n",
    "        orders['visitor_id'].isin(buyers_b)]\n",
    ")['visitor_id'].unique()\n",
    "print('Количество покупателей, находящихся в обеих тестовых группах:', cross_buyers.shape[0])"
   ]
  },
  {
   "cell_type": "markdown",
   "id": "166be554",
   "metadata": {},
   "source": [
    "Поскольку 'пересекающиеся' покупатели составляют 5.6% от количества покупателей в целом, возможно исключить данные о них из датасета и продолжить анализ."
   ]
  },
  {
   "cell_type": "code",
   "execution_count": 15,
   "id": "2e8caaeb",
   "metadata": {},
   "outputs": [
    {
     "data": {
      "text/plain": [
       "973"
      ]
     },
     "execution_count": 15,
     "metadata": {},
     "output_type": "execute_result"
    }
   ],
   "source": [
    "orders = orders.query('visitor_id not in @cross_buyers')\n",
    "orders['visitor_id'].nunique()"
   ]
  },
  {
   "cell_type": "markdown",
   "id": "1bd5b781-07f7-4512-8b2b-56f8264685c2",
   "metadata": {},
   "source": [
    "Мы привели названия столбцов в snake_case формат, а также убедились, что пропуски и дубликаты в полученных данных отсутствуют. В каждой тестовой группе собраны уникальные пользователи."
   ]
  },
  {
   "cell_type": "markdown",
   "id": "e0956a4e-a095-43ed-9296-d173bf20752e",
   "metadata": {},
   "source": [
    "## Приоритизация гипотез"
   ]
  },
  {
   "cell_type": "code",
   "execution_count": 16,
   "id": "d120969b-3d49-4567-b167-4046caa3579e",
   "metadata": {},
   "outputs": [
    {
     "data": {
      "text/html": [
       "<div>\n",
       "<style scoped>\n",
       "    .dataframe tbody tr th:only-of-type {\n",
       "        vertical-align: middle;\n",
       "    }\n",
       "\n",
       "    .dataframe tbody tr th {\n",
       "        vertical-align: top;\n",
       "    }\n",
       "\n",
       "    .dataframe thead th {\n",
       "        text-align: right;\n",
       "    }\n",
       "</style>\n",
       "<table border=\"1\" class=\"dataframe\">\n",
       "  <thead>\n",
       "    <tr style=\"text-align: right;\">\n",
       "      <th></th>\n",
       "      <th>hypothesis</th>\n",
       "      <th>ICE</th>\n",
       "    </tr>\n",
       "  </thead>\n",
       "  <tbody>\n",
       "    <tr>\n",
       "      <th>0</th>\n",
       "      <td>Запустить акцию, дающую скидку на товар в день рождения</td>\n",
       "      <td>16.20</td>\n",
       "    </tr>\n",
       "    <tr>\n",
       "      <th>1</th>\n",
       "      <td>Добавить два новых канала привлечения трафика, что позволит привлекать на 30% больше пользователей</td>\n",
       "      <td>13.33</td>\n",
       "    </tr>\n",
       "    <tr>\n",
       "      <th>2</th>\n",
       "      <td>Добавить форму подписки на все основные страницы, чтобы собрать базу клиентов для email-рассылок</td>\n",
       "      <td>11.20</td>\n",
       "    </tr>\n",
       "    <tr>\n",
       "      <th>3</th>\n",
       "      <td>Показать на главной странице баннеры с актуальными акциями и распродажами, чтобы увеличить конверсию</td>\n",
       "      <td>8.00</td>\n",
       "    </tr>\n",
       "    <tr>\n",
       "      <th>4</th>\n",
       "      <td>Добавить блоки рекомендаций товаров на сайт интернет магазина, чтобы повысить конверсию и средний чек заказа</td>\n",
       "      <td>7.00</td>\n",
       "    </tr>\n",
       "    <tr>\n",
       "      <th>5</th>\n",
       "      <td>Запустить собственную службу доставки, что сократит срок доставки заказов</td>\n",
       "      <td>2.00</td>\n",
       "    </tr>\n",
       "    <tr>\n",
       "      <th>6</th>\n",
       "      <td>Добавить страницу отзывов клиентов о магазине, что позволит увеличить количество заказов</td>\n",
       "      <td>1.33</td>\n",
       "    </tr>\n",
       "    <tr>\n",
       "      <th>7</th>\n",
       "      <td>Изменить структура категорий, что увеличит конверсию, т.к. пользователи быстрее найдут нужный товар</td>\n",
       "      <td>1.12</td>\n",
       "    </tr>\n",
       "    <tr>\n",
       "      <th>8</th>\n",
       "      <td>Изменить цвет фона главной страницы, чтобы увеличить вовлеченность пользователей</td>\n",
       "      <td>1.00</td>\n",
       "    </tr>\n",
       "  </tbody>\n",
       "</table>\n",
       "</div>"
      ],
      "text/plain": [
       "                                                                                                     hypothesis  \\\n",
       "0                                                       Запустить акцию, дающую скидку на товар в день рождения   \n",
       "1            Добавить два новых канала привлечения трафика, что позволит привлекать на 30% больше пользователей   \n",
       "2              Добавить форму подписки на все основные страницы, чтобы собрать базу клиентов для email-рассылок   \n",
       "3          Показать на главной странице баннеры с актуальными акциями и распродажами, чтобы увеличить конверсию   \n",
       "4  Добавить блоки рекомендаций товаров на сайт интернет магазина, чтобы повысить конверсию и средний чек заказа   \n",
       "5                                     Запустить собственную службу доставки, что сократит срок доставки заказов   \n",
       "6                      Добавить страницу отзывов клиентов о магазине, что позволит увеличить количество заказов   \n",
       "7           Изменить структура категорий, что увеличит конверсию, т.к. пользователи быстрее найдут нужный товар   \n",
       "8                              Изменить цвет фона главной страницы, чтобы увеличить вовлеченность пользователей   \n",
       "\n",
       "     ICE  \n",
       "0  16.20  \n",
       "1  13.33  \n",
       "2  11.20  \n",
       "3   8.00  \n",
       "4   7.00  \n",
       "5   2.00  \n",
       "6   1.33  \n",
       "7   1.12  \n",
       "8   1.00  "
      ]
     },
     "metadata": {},
     "output_type": "display_data"
    },
    {
     "data": {
      "text/html": [
       "<div>\n",
       "<style scoped>\n",
       "    .dataframe tbody tr th:only-of-type {\n",
       "        vertical-align: middle;\n",
       "    }\n",
       "\n",
       "    .dataframe tbody tr th {\n",
       "        vertical-align: top;\n",
       "    }\n",
       "\n",
       "    .dataframe thead th {\n",
       "        text-align: right;\n",
       "    }\n",
       "</style>\n",
       "<table border=\"1\" class=\"dataframe\">\n",
       "  <thead>\n",
       "    <tr style=\"text-align: right;\">\n",
       "      <th></th>\n",
       "      <th>hypothesis</th>\n",
       "      <th>RICE</th>\n",
       "    </tr>\n",
       "  </thead>\n",
       "  <tbody>\n",
       "    <tr>\n",
       "      <th>0</th>\n",
       "      <td>Добавить форму подписки на все основные страницы, чтобы собрать базу клиентов для email-рассылок</td>\n",
       "      <td>112.0</td>\n",
       "    </tr>\n",
       "    <tr>\n",
       "      <th>1</th>\n",
       "      <td>Добавить блоки рекомендаций товаров на сайт интернет магазина, чтобы повысить конверсию и средний чек заказа</td>\n",
       "      <td>56.0</td>\n",
       "    </tr>\n",
       "    <tr>\n",
       "      <th>2</th>\n",
       "      <td>Добавить два новых канала привлечения трафика, что позволит привлекать на 30% больше пользователей</td>\n",
       "      <td>40.0</td>\n",
       "    </tr>\n",
       "    <tr>\n",
       "      <th>3</th>\n",
       "      <td>Показать на главной странице баннеры с актуальными акциями и распродажами, чтобы увеличить конверсию</td>\n",
       "      <td>40.0</td>\n",
       "    </tr>\n",
       "    <tr>\n",
       "      <th>4</th>\n",
       "      <td>Запустить акцию, дающую скидку на товар в день рождения</td>\n",
       "      <td>16.2</td>\n",
       "    </tr>\n",
       "    <tr>\n",
       "      <th>5</th>\n",
       "      <td>Изменить структура категорий, что увеличит конверсию, т.к. пользователи быстрее найдут нужный товар</td>\n",
       "      <td>9.0</td>\n",
       "    </tr>\n",
       "    <tr>\n",
       "      <th>6</th>\n",
       "      <td>Запустить собственную службу доставки, что сократит срок доставки заказов</td>\n",
       "      <td>4.0</td>\n",
       "    </tr>\n",
       "    <tr>\n",
       "      <th>7</th>\n",
       "      <td>Добавить страницу отзывов клиентов о магазине, что позволит увеличить количество заказов</td>\n",
       "      <td>4.0</td>\n",
       "    </tr>\n",
       "    <tr>\n",
       "      <th>8</th>\n",
       "      <td>Изменить цвет фона главной страницы, чтобы увеличить вовлеченность пользователей</td>\n",
       "      <td>3.0</td>\n",
       "    </tr>\n",
       "  </tbody>\n",
       "</table>\n",
       "</div>"
      ],
      "text/plain": [
       "                                                                                                     hypothesis  \\\n",
       "0              Добавить форму подписки на все основные страницы, чтобы собрать базу клиентов для email-рассылок   \n",
       "1  Добавить блоки рекомендаций товаров на сайт интернет магазина, чтобы повысить конверсию и средний чек заказа   \n",
       "2            Добавить два новых канала привлечения трафика, что позволит привлекать на 30% больше пользователей   \n",
       "3          Показать на главной странице баннеры с актуальными акциями и распродажами, чтобы увеличить конверсию   \n",
       "4                                                       Запустить акцию, дающую скидку на товар в день рождения   \n",
       "5           Изменить структура категорий, что увеличит конверсию, т.к. пользователи быстрее найдут нужный товар   \n",
       "6                                     Запустить собственную службу доставки, что сократит срок доставки заказов   \n",
       "7                      Добавить страницу отзывов клиентов о магазине, что позволит увеличить количество заказов   \n",
       "8                              Изменить цвет фона главной страницы, чтобы увеличить вовлеченность пользователей   \n",
       "\n",
       "    RICE  \n",
       "0  112.0  \n",
       "1   56.0  \n",
       "2   40.0  \n",
       "3   40.0  \n",
       "4   16.2  \n",
       "5    9.0  \n",
       "6    4.0  \n",
       "7    4.0  \n",
       "8    3.0  "
      ]
     },
     "metadata": {},
     "output_type": "display_data"
    }
   ],
   "source": [
    "hypothesis['ICE'] = round(hypothesis['impact'] * hypothesis['confidence'] / hypothesis['efforts'], 2)\n",
    "hypothesis['RICE'] = round(hypothesis['reach'] * hypothesis['impact'] * hypothesis['confidence'] / hypothesis['efforts'], 2)\n",
    "\n",
    "display(hypothesis[['hypothesis', 'ICE']].sort_values(by=['ICE'], ascending=False).reset_index(drop=True))\n",
    "display(hypothesis[['hypothesis', 'RICE']].sort_values(by=['RICE'], ascending=False).reset_index(drop=True))"
   ]
  },
  {
   "cell_type": "markdown",
   "id": "da2c912b-d7fc-4086-8333-fa3cb9874fea",
   "metadata": {},
   "source": [
    "Фреймворки ICE и RICE показывают меняют уровень приоритета для одних и тех же гипотез. Например, гипотеза 'Запустить акцию, дающую скидку на товар в день рождения' по ICE набирает 16.2 балла и является самой приоритетной. Но значение 'Reach' этой гипотезы оценено всего в 1 балл и по RICE эта гипотеза оказывается на 5 месте.\n",
    "\n",
    "Напротив, гипотеза 'Добавить форму подписки на все основные страницы, чтобы собрать базу клиентов для email-рассылок' по ICE находится на 3 месте и имеет 11.2 балла. По RICE эта гипотеза набирает 112 баллов и уверенно занимает 1 место."
   ]
  },
  {
   "cell_type": "markdown",
   "id": "153a3646-743f-40d3-a873-87fc4df892b0",
   "metadata": {},
   "source": [
    "## Анализ A/B-теста"
   ]
  },
  {
   "cell_type": "code",
   "execution_count": 17,
   "id": "5d8b57ec-78a1-4096-98c5-095a0ce6a2df",
   "metadata": {},
   "outputs": [],
   "source": [
    "# рассчитаем кумулятивные значения метрик для каждой группы\n",
    "dates_groups_pairs = orders[['date','group']].drop_duplicates()\n",
    "\n",
    "orders_aggregated = dates_groups_pairs.apply(\n",
    "    lambda pair: orders[np.logical_and(orders['date'] <= pair['date'], orders['group'] == pair['group'])]\n",
    "    .agg({\n",
    "        'date': 'max',\n",
    "        'group': 'max',\n",
    "        'revenue': 'sum',\n",
    "        'transaction_id': 'nunique',\n",
    "        'visitor_id': 'nunique'\n",
    "    }), axis=1\n",
    ").sort_values(by=['date','group']).reset_index(drop=True)\n",
    "\n",
    "orders_aggregated.rename(\n",
    "    columns={'transaction_id': 'orders', 'visitor_id': 'buyers'},\n",
    "    inplace=True\n",
    ")\n",
    "\n",
    "# рассчитаем кумулятивное количество посетителей из датасета visitors\n",
    "visitors_a = visitors.query('group == \"A\"')\n",
    "visitors_a_cum_count = visitors_a.apply(\n",
    "    lambda entry: visitors[np.logical_and(visitors['date'] <= entry['date'], visitors['group'] == entry['group'])]\n",
    "    .agg({\n",
    "        'date': 'max',\n",
    "        'group': 'max',\n",
    "        'visitors': 'sum'\n",
    "    }), axis=1\n",
    ").sort_values(by=['date'])\n",
    "\n",
    "visitors_b = visitors.query('group == \"B\"')\n",
    "visitors_b_cum_count = visitors_b.apply(\n",
    "    lambda entry: visitors[np.logical_and(visitors['date'] <= entry['date'], visitors['group'] == entry['group'])]\n",
    "    .agg({\n",
    "        'date': 'max',\n",
    "        'group': 'max',\n",
    "        'visitors': 'sum'\n",
    "    }), axis=1\n",
    ").sort_values(by=['date'])\n",
    "\n",
    "cum_visitors_count = pd.concat([visitors_a_cum_count, visitors_b_cum_count], ignore_index=True)\n",
    "\n",
    "# добавим в агрегированные данные количество посетителей в день\n",
    "orders_aggregated = orders_aggregated.merge(\n",
    "    cum_visitors_count,\n",
    "    on=['date', 'group'],\n",
    "    how='left'\n",
    ")\n",
    "\n",
    "cumulative_a = orders_aggregated[orders_aggregated['group']=='A']\n",
    "\n",
    "cumulative_b = orders_aggregated[orders_aggregated['group']=='B']"
   ]
  },
  {
   "cell_type": "markdown",
   "id": "41b520c5-abef-44eb-9588-105946576e7c",
   "metadata": {},
   "source": [
    "### 1. График кумулятивной выручки по группам"
   ]
  },
  {
   "cell_type": "code",
   "execution_count": 18,
   "id": "ac591ea3-7ad0-4393-8c91-8f25b9f83748",
   "metadata": {},
   "outputs": [
    {
     "data": {
      "image/png": "[encoded data removed]",
      "text/plain": [
       "<Figure size 1400x400 with 1 Axes>"
      ]
     },
     "metadata": {},
     "output_type": "display_data"
    }
   ],
   "source": [
    "plt.figure(figsize=(14, 4))\n",
    "plt.plot(cumulative_a['date'], cumulative_a['revenue'], label='A')\n",
    "plt.plot(cumulative_b['date'], cumulative_b['revenue'], label='B')\n",
    "plt.title('Кумулятивная выручка в тестовых группах')\n",
    "plt.legend()\n",
    "plt.xlabel('Тестовый период')\n",
    "plt.ylabel('Размер выручки, млн.')\n",
    "\n",
    "plt.show()"
   ]
  },
  {
   "cell_type": "markdown",
   "id": "73c5dcea-cc9d-46a6-9074-ddd6c580607d",
   "metadata": {},
   "source": [
    "График роста кумулятивной выручки группы A демонстрирует равномерное увеличение. Через несколько дней после начала теста уровень кумулятивной выручки в группе B становится выше, чем в группе A, и остается таким на протяжении всего времени. 18.08.2019 мы видим резкий и значительный рост уровня кумулятивной выручки в группе B. Такой всплеск на графике может быть вызван дорогостоящим заказом, который был сделан в этот день. "
   ]
  },
  {
   "cell_type": "markdown",
   "id": "225ea383-30de-4d61-a8fc-72767d9d2c76",
   "metadata": {},
   "source": [
    "### 2. График кумулятивных средних чеков по группам"
   ]
  },
  {
   "cell_type": "code",
   "execution_count": 19,
   "id": "c4096b46-0a3b-4560-a6da-aee2f1b0f79e",
   "metadata": {},
   "outputs": [
    {
     "data": {
      "image/png": "[encoded data removed]",
      "text/plain": [
       "<Figure size 1400x400 with 1 Axes>"
      ]
     },
     "metadata": {},
     "output_type": "display_data"
    }
   ],
   "source": [
    "plt.figure(figsize=(14, 4))\n",
    "plt.plot(\n",
    "    cumulative_a['date'], cumulative_a['revenue']/cumulative_a['orders'], label='A')\n",
    "plt.plot(\n",
    "    cumulative_b['date'], cumulative_b['revenue']/cumulative_b['orders'], label='B')\n",
    "plt.legend()\n",
    "plt.legend()\n",
    "plt.title('Кумулятивный средний чек в тестовых группах')\n",
    "plt.xlabel('Тестовый период')\n",
    "plt.ylabel('Средний чек')\n",
    "plt.show()"
   ]
  },
  {
   "cell_type": "markdown",
   "id": "60411462-f65f-4843-bb5a-801633bdd8f3",
   "metadata": {},
   "source": [
    "На графике мы видим, что для группы А кумулятивный средний чек ко второй половине тестового периода стабилизируется. Средний чек группы B в силу всплеска, наблюдаемого 18.08, за тестовый период стабилизироваться не успевает. Поэтому требуется больше времени, чтобы по построенному графику определить для группы B динамику среднего чека."
   ]
  },
  {
   "cell_type": "markdown",
   "id": "c7a6f98d-1cef-47b5-ac34-e44a1015038e",
   "metadata": {},
   "source": [
    "<a id='mean_check_relation'></a>\n",
    "### 3. График относительного изменения кумулятивного среднего чека группы B к группе A"
   ]
  },
  {
   "cell_type": "code",
   "execution_count": 20,
   "id": "1363451f-4ece-41b3-be45-d2bdaee4f86e",
   "metadata": {},
   "outputs": [
    {
     "data": {
      "image/png": "[encoded data removed]",
      "text/plain": [
       "<Figure size 1400x400 with 1 Axes>"
      ]
     },
     "metadata": {},
     "output_type": "display_data"
    }
   ],
   "source": [
    "plt.figure(figsize=(14, 4))\n",
    "merged_cumulative = cumulative_a.merge(\n",
    "    cumulative_b, left_on='date', right_on='date', how='left', suffixes=['A', 'B']\n",
    ")\n",
    "\n",
    "plt.plot(\n",
    "    merged_cumulative['date'],\n",
    "    (merged_cumulative['revenueB']/merged_cumulative['ordersB']) / \n",
    "    (merged_cumulative['revenueA']/merged_cumulative['ordersA'])-1\n",
    ")\n",
    "plt.axhline(y=0, color='black', linestyle='--')\n",
    "plt.title('Относительное изменение среднего чека в тестовых группах')\n",
    "plt.xlabel('Тестовый период')\n",
    "plt.ylabel('Средний чек')\n",
    "plt.show()"
   ]
  },
  {
   "cell_type": "markdown",
   "id": "35b00493-1657-4534-84d6-d51859b1f271",
   "metadata": {},
   "source": [
    "График более наглядно, чем предыдущие, показывает несколько резких колебаний, которые, вероятно, вызваны отдельными дорогостоящими покупками в каждой из групп."
   ]
  },
  {
   "cell_type": "markdown",
   "id": "8a8216fd-f12e-429e-8ea5-023c3c71fd6c",
   "metadata": {},
   "source": [
    "### 4. График кумулятивного среднего количества заказов на посетителя по группам"
   ]
  },
  {
   "cell_type": "code",
   "execution_count": 21,
   "id": "0149e211-4c72-4c90-90f2-20f21d04099b",
   "metadata": {},
   "outputs": [
    {
     "data": {
      "image/png": "[encoded data removed]",
      "text/plain": [
       "<Figure size 1400x400 with 1 Axes>"
      ]
     },
     "metadata": {},
     "output_type": "display_data"
    }
   ],
   "source": [
    "plt.figure(figsize=(14, 4))\n",
    "plt.plot(\n",
    "    cumulative_a['date'], cumulative_a['orders']/cumulative_a['visitors'], label='A')\n",
    "plt.plot(\n",
    "    cumulative_b['date'], cumulative_b['orders']/cumulative_b['visitors'], label='B')\n",
    "plt.legend()\n",
    "plt.title('Кумулятивное среднее количество заказов на посетителя в тестовых группах')\n",
    "plt.xlabel('Тестовый период')\n",
    "plt.ylabel('Заказы')\n",
    "plt.show()"
   ]
  },
  {
   "cell_type": "markdown",
   "id": "b276d284-c79a-497e-b24d-9ca0dac0cd9f",
   "metadata": {},
   "source": [
    "График показывает, что кумулятивное среднее количество заказов на посетителя для группы A стабилизируется на уровне ~0.026. Для группы B это количество стабилизируется на уровне ~0.030. Это позволяет предполагать, что посетители в группе B совершают заказы активнее, чем в группе A."
   ]
  },
  {
   "cell_type": "markdown",
   "id": "91a19466-b253-4d72-909d-f2ff46291ed0",
   "metadata": {},
   "source": [
    "### 5. График относительного изменения кумулятивного среднего количества заказов на посетителя группы B к группе A"
   ]
  },
  {
   "cell_type": "code",
   "execution_count": 22,
   "id": "67ffa6c0-253e-4b6c-b0aa-adacd2a2fc1f",
   "metadata": {},
   "outputs": [
    {
     "data": {
      "image/png": "[encoded data removed]",
      "text/plain": [
       "<Figure size 1400x400 with 1 Axes>"
      ]
     },
     "metadata": {},
     "output_type": "display_data"
    }
   ],
   "source": [
    "plt.figure(figsize=(14, 4))\n",
    "plt.plot(\n",
    "    merged_cumulative['date'],\n",
    "    (merged_cumulative['ordersB']/merged_cumulative['visitorsB']) / \n",
    "    (merged_cumulative['ordersA']/merged_cumulative['visitorsA']) - 1\n",
    ")\n",
    "plt.axhline(y=0, color='black', linestyle='--')\n",
    "plt.title('Относительное изменение кумулятивного среднего количества заказов на посетителя в тестовых группах')\n",
    "plt.xlabel('Тестовый период')\n",
    "plt.ylabel('Заказы')\n",
    "plt.show()"
   ]
  },
  {
   "cell_type": "markdown",
   "id": "2dee31d1-0480-4b2d-92c2-f47726da86bf",
   "metadata": {},
   "source": [
    "График постепенно выравнивается, однако, его колебания еще заметны и поэтому нельзя утверждать, что отношение количества заказов на одного посетителя установилось на уровне, соответствующем реальному. "
   ]
  },
  {
   "cell_type": "markdown",
   "id": "92b48bd1-e8d1-4553-9d33-33551aa9f65a",
   "metadata": {},
   "source": [
    "### 6. График количества заказов по пользователям"
   ]
  },
  {
   "cell_type": "code",
   "execution_count": 23,
   "id": "5cacd8ee-e75e-4490-85bc-6b16329d9812",
   "metadata": {},
   "outputs": [
    {
     "data": {
      "image/png": "[encoded data removed]",
      "text/plain": [
       "<Figure size 1400x400 with 1 Axes>"
      ]
     },
     "metadata": {},
     "output_type": "display_data"
    }
   ],
   "source": [
    "orders_by_user = (\n",
    "    orders.groupby('visitor_id')\n",
    "    .agg({\n",
    "        'transaction_id': 'count',\n",
    "        'group': 'max'\n",
    "    })\n",
    ")\n",
    "\n",
    "plt.figure(figsize=(14, 4))\n",
    "plt.scatter(\n",
    "    range(0, len(orders_by_user['transaction_id'])),\n",
    "    orders_by_user['transaction_id']\n",
    ")\n",
    "plt.title('Среднее количество заказов на посетителя в тестовых группах')\n",
    "plt.ylabel('Количество заказов')\n",
    "plt.show()"
   ]
  },
  {
   "cell_type": "markdown",
   "id": "6adcfe67-08ee-4340-9117-0aa87362f5ab",
   "metadata": {},
   "source": [
    "Большинство посетителей из обеих групп сделало всего по одному заказу. Заметная часть посетителей сделала 2 заказа. Только 7 пользователей сделали 3 заказа."
   ]
  },
  {
   "cell_type": "markdown",
   "id": "d6534d47-c926-4829-bc31-bdc2fec175d5",
   "metadata": {},
   "source": [
    "### 7. Расчет перцентилей количества заказов на пользователя"
   ]
  },
  {
   "cell_type": "code",
   "execution_count": 24,
   "id": "a6fe1bdb-afa3-4e7b-80a4-4f25275fc430",
   "metadata": {},
   "outputs": [
    {
     "name": "stdout",
     "output_type": "stream",
     "text": [
      "[1. 2.]\n"
     ]
    }
   ],
   "source": [
    "print(np.percentile(orders_by_user['transaction_id'], [95, 99]))"
   ]
  },
  {
   "cell_type": "markdown",
   "id": "5f1fbaf0-0aee-4a0e-9e91-930ca050e343",
   "metadata": {},
   "source": [
    "Не более 5% посетителей совершили более 1 зака. Не более 1% посетителей совершили более 2 заказов.\n",
    "\n",
    "В качестве границы для определения аномальных пользователей выберем 2 заказа на пользователя."
   ]
  },
  {
   "cell_type": "markdown",
   "id": "dfd61416-1d62-47c8-b9a4-ad8621948e95",
   "metadata": {},
   "source": [
    "### 8. График стоимостей заказов"
   ]
  },
  {
   "cell_type": "code",
   "execution_count": 25,
   "id": "d051fe75-ae50-49f0-a28c-453c24538df8",
   "metadata": {},
   "outputs": [
    {
     "data": {
      "image/png": "[encoded data removed]",
      "text/plain": [
       "<Figure size 1200x400 with 1 Axes>"
      ]
     },
     "metadata": {},
     "output_type": "display_data"
    }
   ],
   "source": [
    "plt.figure(figsize=(12, 4))\n",
    "plt.scatter(\n",
    "    range(0, len(orders['revenue'])),\n",
    "    orders['revenue']\n",
    ")\n",
    "plt.title('Распределение заказов различной стоимости')\n",
    "plt.ylabel('Стоимость заказов, млн.')\n",
    "plt.show()"
   ]
  },
  {
   "cell_type": "markdown",
   "id": "4e16a81d-10db-4542-8c12-724cd5bf63ff",
   "metadata": {},
   "source": [
    "График стоимостей заказов демонстрирует, что верхняя граница стоимости большинства заказов ~ 100 000.\n",
    "\n",
    "Наблюдаются два заказа с аномальной стоимостью в районе 200 000 и 1 300 000."
   ]
  },
  {
   "cell_type": "markdown",
   "id": "9b81e3b4-c647-4033-acff-089d964bbb7b",
   "metadata": {},
   "source": [
    "### 9. Расчет перцентилей стоимостей заказов"
   ]
  },
  {
   "cell_type": "code",
   "execution_count": 26,
   "id": "37d404cd-2848-41ab-8c2d-2143234292f3",
   "metadata": {},
   "outputs": [
    {
     "name": "stdout",
     "output_type": "stream",
     "text": [
      "[26785. 53904.]\n"
     ]
    }
   ],
   "source": [
    "print(np.percentile(orders['revenue'], [95, 99]))"
   ]
  },
  {
   "cell_type": "markdown",
   "id": "9ad52848-db1c-4b98-8ed5-f8f619da1a5f",
   "metadata": {},
   "source": [
    "Только у 5% заказов стоимость превышает 26 785. Только у 1% заказов стоимость превышает 53 904.\n",
    "\n",
    "В качество границы для определения аномальных заказов выберем 99-й перцентиль, так как это значение позволит оставить в исследуемой выборке большее количество данных, и в то же время удалит из нее явно аномальные значения."
   ]
  },
  {
   "cell_type": "markdown",
   "id": "c0f469ee-062d-486b-aee8-078a1c06b4e3",
   "metadata": {},
   "source": [
    "### 10. Расчет статистической значимости различий в среднем количестве заказов на посетителя между группами по «сырым» данным"
   ]
  },
  {
   "cell_type": "markdown",
   "id": "090cd85b-d662-4d6a-aa2d-6416c6ecded5",
   "metadata": {},
   "source": [
    "##### формулируем первую гипотезу\n",
    "Нулевая гипотеза: различий в среднем количестве заказов на одного посетителя между группами A и B нет.\n",
    "Альтернативная гипотеза: различия в среднем количестве заказов между группами A и B есть."
   ]
  },
  {
   "cell_type": "code",
   "execution_count": 27,
   "id": "d749d591-e375-4fb3-9b32-4b1bbd5a99a8",
   "metadata": {},
   "outputs": [],
   "source": [
    "visitors_a = visitors[visitors['group'] == 'A'][['date', 'visitors']]\n",
    "visitors_a.columns = ['date', 'visitors_by_dt_a']\n",
    "visitors_b = visitors[visitors['group'] == 'B'][['date', 'visitors']]\n",
    "visitors_b.columns = ['date', 'visitors_by_dt_b']\n",
    "\n",
    "# рассчитываем кумулятивное количество посетителей для каждой даты\n",
    "visitors_a_cummulative = visitors_a.apply(\n",
    "    lambda x: visitors_a[visitors_a['date'] <= x['date']].agg(\n",
    "        {'date': 'max', 'visitors_by_dt_a': 'sum'}\n",
    "    ),\n",
    "    axis=1\n",
    ")\n",
    "visitors_a_cummulative.columns = ['date', 'cum_visitors_by_dt_a']\n",
    "visitors_b_cummulative = visitors_b.apply(\n",
    "    lambda x: visitors_b[visitors_b['date'] <= x['date']].agg(\n",
    "        {'date': 'max', 'visitors_by_dt_b': 'sum'}\n",
    "    ),\n",
    "    axis=1\n",
    ")\n",
    "visitors_b_cummulative.columns = ['date', 'cum_visitors_by_dt_b']\n",
    "\n",
    "# рассчитываем количество заказов и выручку для каждой даты\n",
    "orders_a = (\n",
    "    orders[orders['group'] == 'A'][['transaction_id', 'visitor_id', 'date', 'revenue']]\n",
    "    .groupby('date', as_index=False)\n",
    "    .agg({'transaction_id': pd.Series.nunique, 'revenue': 'sum'})\n",
    ")\n",
    "orders_a.columns = ['date', 'orders_by_dt_a', 'revenue_by_dt_a']\n",
    "\n",
    "orders_b = (\n",
    "    orders[orders['group'] == 'B'][['transaction_id', 'visitor_id', 'date', 'revenue']]\n",
    "    .groupby('date', as_index=False)\n",
    "    .agg({'transaction_id': pd.Series.nunique, 'revenue': 'sum'})\n",
    ")\n",
    "orders_b.columns = ['date', 'orders_by_dt_b', 'revenue_by_dt_b']\n",
    "\n",
    "# рассчитываем для каждой группы кумулятивные количество заказов и выручку\n",
    "orders_a_cummulative = orders_a.apply(\n",
    "    lambda x: orders_a[orders_a['date'] <= x['date']].agg(\n",
    "        {'date': 'max', 'orders_by_dt_a': 'sum', 'revenue_by_dt_a': 'sum'}\n",
    "    ),\n",
    "    axis=1\n",
    ").sort_values(by=['date'])\n",
    "orders_a_cummulative.columns = ['date', 'cum_orders_by_dt_a', 'cum_revenue_by_dt_a']\n",
    "orders_b_cummulative = orders_b.apply(\n",
    "    lambda x: orders_b[orders_b['date'] <= x['date']].agg(\n",
    "        {'date': 'max', 'orders_by_dt_b': 'sum', 'revenue_by_dt_b': 'sum'}\n",
    "    ),\n",
    "    axis=1\n",
    ").sort_values(by=['date'])\n",
    "orders_b_cummulative.columns = ['date', 'cum_orders_by_dt_b', 'cum_revenue_by_dt_b']\n",
    "\n",
    "data_by_groups = (\n",
    "    orders_a.merge(orders_b, left_on='date', right_on='date', how='left')\n",
    "    .merge(orders_a_cummulative, left_on='date', right_on='date', how='left')\n",
    "    .merge(orders_b_cummulative, left_on='date', right_on='date', how='left')\n",
    "    .merge(visitors_a, left_on='date', right_on='date', how='left')\n",
    "    .merge(visitors_b, left_on='date', right_on='date', how='left')\n",
    "    .merge(visitors_a_cummulative, left_on='date', right_on='date', how='left')\n",
    "    .merge(visitors_b_cummulative, left_on='date', right_on='date', how='left')\n",
    ")"
   ]
  },
  {
   "cell_type": "code",
   "execution_count": 28,
   "id": "ccc74ad3-3731-435b-8649-20280eae9184",
   "metadata": {},
   "outputs": [],
   "source": [
    "orders_by_users_a = (\n",
    "    orders[orders['group'] == 'A']\n",
    "    .groupby('visitor_id', as_index=False)\n",
    "    .agg({'transaction_id': pd.Series.nunique})\n",
    ")\n",
    "orders_by_users_a.columns = ['visitor_id', 'orders']\n",
    "\n",
    "orders_by_users_b = (\n",
    "    orders[orders['group'] == 'B']\n",
    "    .groupby('visitor_id', as_index=False)\n",
    "    .agg({'transaction_id': pd.Series.nunique})\n",
    ")\n",
    "orders_by_users_b.columns = ['visitor_id', 'orders']\n",
    "\n",
    "sample_a = pd.concat(\n",
    "    [\n",
    "        orders_by_users_a['orders'],\n",
    "        pd.Series(\n",
    "            0,\n",
    "            index=np.arange(data_by_groups['visitors_by_dt_a'].sum() - len(orders_by_users_a['orders'])),\n",
    "            name='orders'\n",
    "        )\n",
    "    ],\n",
    "    axis=0\n",
    ")\n",
    "\n",
    "sample_b = pd.concat(\n",
    "    [\n",
    "        orders_by_users_b['orders'],\n",
    "        pd.Series(\n",
    "            0,\n",
    "            index=np.arange(data_by_groups['visitors_by_dt_b'].sum() - len(orders_by_users_b['orders'])),\n",
    "            name='orders'\n",
    "        )\n",
    "    ],\n",
    "    axis=0\n",
    ")"
   ]
  },
  {
   "cell_type": "code",
   "execution_count": 29,
   "id": "b50c79dc-58d1-44fb-a5e2-db20198714d3",
   "metadata": {},
   "outputs": [
    {
     "name": "stdout",
     "output_type": "stream",
     "text": [
      "0.011\n",
      "0.160\n"
     ]
    }
   ],
   "source": [
    "print(\"{0:.3f}\".format(stats.mannwhitneyu(sample_a, sample_b)[1]))\n",
    "print(\"{0:.3f}\".format(sample_b.mean() / sample_a.mean() - 1))"
   ]
  },
  {
   "cell_type": "markdown",
   "id": "735a00bb-45b6-4f8f-86b7-e23db70573fa",
   "metadata": {},
   "source": [
    "P-value, рассчитанное на 'сырых' данных, ниже 0.05. Это говорит о наличии оснований для отклонения нулевой гипотезы, согласно которой среднее количество заказов в группах не отличается.\n",
    "Кроме того, мы видим, что среднее количество заказов в группе B выше на 16%."
   ]
  },
  {
   "cell_type": "markdown",
   "id": "07919e6c-527c-4a37-9c23-b6bc8e35ca91",
   "metadata": {},
   "source": [
    "### 11. Расчет статистической значимости различий в среднем чеке между группами по «сырым» данным"
   ]
  },
  {
   "cell_type": "markdown",
   "id": "5f18633b-e208-452d-9c32-80111ae0d8ed",
   "metadata": {},
   "source": [
    "##### формулируем вторую гипотезу\n",
    "Нулевая гипотеза: различий в среднем чеке между группами нет.\n",
    "Альтернативная гипотеза: различия в среднем чеке между группами есть."
   ]
  },
  {
   "cell_type": "code",
   "execution_count": 30,
   "id": "4850ee22-d550-4f19-8bbd-5ede385eadf4",
   "metadata": {},
   "outputs": [
    {
     "name": "stdout",
     "output_type": "stream",
     "text": [
      "0.829\n",
      "0.287\n"
     ]
    }
   ],
   "source": [
    "print('{0:.3f}'.format(\n",
    "    stats.mannwhitneyu(\n",
    "        orders[orders['group']=='A']['revenue'], orders[orders['group']=='B']['revenue']\n",
    "    )[1]\n",
    "))\n",
    "print('{0:.3f}'.format(\n",
    "    orders[orders['group']=='B']['revenue'].mean()/orders[orders['group']=='A']['revenue'].mean()-1\n",
    "))"
   ]
  },
  {
   "cell_type": "markdown",
   "id": "d61f3811-68f7-4297-aed8-76320c95494a",
   "metadata": {},
   "source": [
    "P-value, рассчитанное на 'сырых' данных, значительно выше 0.05. Это говорит об отсутствии оснований для отклонения нулевой гипотезы, согласно которой средний чек в группах не отличается.\n",
    "Кроме того, мы видим, что средний чек в группе B выше почти на 29%."
   ]
  },
  {
   "cell_type": "markdown",
   "id": "385ae975-5aee-473d-a2b6-f09eb93c0ead",
   "metadata": {},
   "source": [
    "### 12. Расчет статистической значимости различий в среднем количестве заказов на посетителя между группами по «очищенным» данным"
   ]
  },
  {
   "cell_type": "markdown",
   "id": "fe1b3403-2bd8-4735-b035-c47450da4b9f",
   "metadata": {},
   "source": [
    "Исходя из перцентилей стоимостей заказов и количества заказов на посетителя в качестве аномальных примем посетителей:\n",
    "- совершивших более 2 заказов\n",
    "- совершивших заказы, стоимость которых превышает 53 904"
   ]
  },
  {
   "cell_type": "code",
   "execution_count": 31,
   "id": "9aa78a1d-21e0-406e-8203-50b7b2e1d59c",
   "metadata": {
    "scrolled": true
   },
   "outputs": [
    {
     "name": "stdout",
     "output_type": "stream",
     "text": [
      "1099    148427295\n",
      "33      249864742\n",
      "58      611059232\n",
      "949     887908475\n",
      "744     888512513\n",
      "Name: visitor_id, dtype: int64\n",
      "16\n"
     ]
    }
   ],
   "source": [
    "# выделим аномальных пользователей\n",
    "revenue_threshold = 53904\n",
    "users_with_many_orders = pd.concat(\n",
    "    [\n",
    "        orders_by_users_a[orders_by_users_a['orders'] > 2]['visitor_id'],\n",
    "        orders_by_users_b[orders_by_users_b['orders'] > 2]['visitor_id'],\n",
    "    ],\n",
    "    axis=0,\n",
    ")\n",
    "users_with_expensive_orders = orders[orders['revenue'] > revenue_threshold]['visitor_id']\n",
    "abnormal_users = (\n",
    "    pd.concat([users_with_many_orders, users_with_expensive_orders], axis=0)\n",
    "    .drop_duplicates()\n",
    "    .sort_values()\n",
    ")\n",
    "print(abnormal_users.head(5))\n",
    "print(abnormal_users.shape[0])"
   ]
  },
  {
   "cell_type": "markdown",
   "id": "c3f3231b-1d53-45d3-9f8a-77c613a96eac",
   "metadata": {},
   "source": [
    "Всего в выборке присутствует 16 аномальных посетителей."
   ]
  },
  {
   "cell_type": "markdown",
   "id": "af799388-5c4d-41c6-9ba9-8848d1d7e662",
   "metadata": {},
   "source": [
    "##### формулируем первую гипотезу для 'очищенных' данных\n",
    "Нулевая гипотеза: различий в среднем количестве заказов на одного посетителя между группами A и B нет.\n",
    "Альтернативная гипотеза: различия в среднем количестве заказов между группами A и B есть."
   ]
  },
  {
   "cell_type": "code",
   "execution_count": 32,
   "id": "b4ea8d36-9530-4c6c-bbc5-5c62f90ae765",
   "metadata": {},
   "outputs": [
    {
     "name": "stdout",
     "output_type": "stream",
     "text": [
      "0.007\n",
      "0.189\n"
     ]
    }
   ],
   "source": [
    "sample_a_filtered = pd.concat(\n",
    "    [\n",
    "        orders_by_users_a[\n",
    "            np.logical_not(orders_by_users_a['visitor_id'].isin(abnormal_users))\n",
    "        ]['orders'],\n",
    "        pd.Series(\n",
    "            0,\n",
    "            index=np.arange(\n",
    "                data_by_groups['visitors_by_dt_a'].sum() - len(orders_by_users_a['orders'])\n",
    "            ),\n",
    "            name='orders',\n",
    "        ),\n",
    "    ],\n",
    "    axis=0,\n",
    ")\n",
    "\n",
    "sample_b_filtered = pd.concat(\n",
    "    [\n",
    "        orders_by_users_b[\n",
    "            np.logical_not(orders_by_users_b['visitor_id'].isin(abnormal_users))\n",
    "        ]['orders'],\n",
    "        pd.Series(\n",
    "            0,\n",
    "            index=np.arange(\n",
    "                data_by_groups['visitors_by_dt_b'].sum() - len(orders_by_users_b['orders'])            ),\n",
    "            name='orders',\n",
    "        ),\n",
    "    ],\n",
    "    axis=0,\n",
    ")\n",
    "\n",
    "print('{0:.3f}'.format(stats.mannwhitneyu(sample_a_filtered, sample_b_filtered)[1]))\n",
    "print('{0:.3f}'.format(sample_b_filtered.mean() / sample_a_filtered.mean() - 1))"
   ]
  },
  {
   "cell_type": "markdown",
   "id": "e70aa322-0b6c-4dc1-b787-eb238758be81",
   "metadata": {},
   "source": [
    "P-value, рассчитанное на данных без аномальных значений, еще больше снизилось и по-прежнему ниже 0.05.\n",
    "\n",
    "Для отфильтрованных выборок группа B опережает группу A по среднему количеству заказов уже более чем на 18%.\n",
    "\n",
    "Таким образом, отклоним нулевую гипотезу и примем альтернативную гипотезу, согласно которой среднее количество заказов в группах A и B отличается."
   ]
  },
  {
   "cell_type": "markdown",
   "id": "7b6e3940-00e1-462f-8ba5-1e2d79ead356",
   "metadata": {},
   "source": [
    "### 13. Расчет статистической значимости различий в среднем чеке между группами по «очищенным» данным"
   ]
  },
  {
   "cell_type": "markdown",
   "id": "d687d6d1-e5a5-450d-9673-afe668949f02",
   "metadata": {},
   "source": [
    "##### формулируем вторую гипотезу для 'очищенных' данных\n",
    "Нулевая гипотеза: различий в среднем чеке между группами нет.\n",
    "Альтернативная гипотеза: различия в среднем чеке между группами есть."
   ]
  },
  {
   "cell_type": "code",
   "execution_count": 33,
   "id": "741ef0b2-5fe2-49b1-b77d-fe032db1356b",
   "metadata": {},
   "outputs": [
    {
     "name": "stdout",
     "output_type": "stream",
     "text": [
      "0.788\n",
      "-0.032\n"
     ]
    }
   ],
   "source": [
    "print('{0:.3f}'.format(\n",
    "    stats.mannwhitneyu(\n",
    "        orders[\n",
    "            np.logical_and(\n",
    "                orders['group'] == 'A',\n",
    "                np.logical_not(orders['visitor_id'].isin(abnormal_users)),\n",
    "            )\n",
    "        ]['revenue'],\n",
    "        orders[\n",
    "            np.logical_and(\n",
    "                orders['group'] == 'B',\n",
    "                np.logical_not(orders['visitor_id'].isin(abnormal_users)),\n",
    "            )\n",
    "        ]['revenue'],\n",
    "    )[1]\n",
    "))\n",
    "\n",
    "print('{0:.3f}'.format(\n",
    "    orders[\n",
    "        np.logical_and(\n",
    "            orders['group'] == 'B',\n",
    "            np.logical_not(orders['visitor_id'].isin(abnormal_users)),\n",
    "        )\n",
    "    ]['revenue'].mean()\n",
    "    / orders[\n",
    "        np.logical_and(\n",
    "            orders['group'] == 'A',\n",
    "            np.logical_not(orders['visitor_id'].isin(abnormal_users)),\n",
    "        )\n",
    "    ]['revenue'].mean() - 1\n",
    "))"
   ]
  },
  {
   "cell_type": "markdown",
   "id": "a40137f9-b36e-417f-94d9-bb4fbbd0a48d",
   "metadata": {},
   "source": [
    "P-value, рассчитанное на данных без аномальных значений, даже незначительно снизилось.\n",
    "\n",
    "Однако, для отфильтрованных выборок группа B отстает от группы A по среднему чеку на 3%."
   ]
  },
  {
   "cell_type": "markdown",
   "id": "55ad261f-85c7-4c2a-841e-35043922d0a1",
   "metadata": {},
   "source": [
    "### Итоговый вывод"
   ]
  },
  {
   "cell_type": "markdown",
   "id": "c51b9707-01f1-40ed-9399-1ef620ab993f",
   "metadata": {},
   "source": [
    "В ходе исследования требовалось оценить, насколько в двух тестовых группах отличаются среднее количество заказов на посетителя и средний чек. Полученные по итогам тестирования данные анализировались как в 'сыром' виде, так и в 'очищенном' от аномальных значений.\n",
    "\n",
    "1. Была рассчитана статистическая значимость различий в среднем количестве заказов на одного посетителя между группами A и B и сформулированы гипотезы:\n",
    "Н0: различий в среднем количестве заказов между группами нет.\n",
    "H1: различия в среднем количестве заказов между группами есть.\n",
    "alpha = 0.05\n",
    "\n",
    "p-value на 'сырых' данных = 0.011\n",
    "\n",
    "p-value на 'очищенных' данных = 0.007\n",
    "\n",
    "отношение среднего количества заказов в группе B к среднему количеству заказов в группе A:\n",
    "\n",
    "на 'сырых' данных = 0.160\n",
    "\n",
    "на 'очищенных' данных = 0.189\n",
    "\n",
    "Таким образом, мы отклонили нулевую гипотезу и приняли альтернативную гипотезу, согласно которой среднее количество заказов в группах A и B отличается.\n",
    "\n",
    "2. Была рассчитана статистическая значимость различий в среднем чеке между группами A и B и сформулированы гипотезы:\n",
    "Н0: различий в среднем чеке между группами нет.\n",
    "H1: различия в среднем чеке между группами есть.\n",
    "alpha = 0.05\n",
    "\n",
    "p-value на 'сырых' данных = 0.829\n",
    "\n",
    "p-value на 'очищенных' данных = 0.788\n",
    "\n",
    "отношение среднего чека в группе B к среднему чеку в группе A:\n",
    "\n",
    "на 'сырых' данных = 0.287\n",
    "\n",
    "на 'очищенных' данных = -0.032\n",
    "\n",
    "P-value, рассчитанное и на 'сырых', и на 'очищенных' данных, значительно выше 0.05. Это говорит об отсутствии оснований для отклонения нулевой гипотезы, согласно которой средний чек в группах не отличается.\n",
    "\n",
    "Кроме того, мы видим, что отношение среднего чека в группе B к среднему чеку в группе A на 'сырых' и 'очищенных' данных существенно отличается. Отношение средних чеков на 'очищенных' данных стремится в выравниванию. \n",
    "\n",
    "[График](#mean_check_relation) относительного изменения кумулятивного среднего чека в группах также дает основания говорить, что к настоящему моменту значения средних чеков еще не установились на реальном уровне.\n",
    "\n",
    "Таким образом, полагаем необходимым продолжить тест до появления непротиворечивых результатов. На продолжение теста возьмем неделю, т.е. 1/4 от уже истекшего тестового периода - этого времени будет достаточно для понимания, стабилизовались ли полученные результаты."
   ]
  }
 ],
 "metadata": {
  "ExecuteTimeLog": [
   {
    "duration": 1020,
    "start_time": "2023-04-15T12:06:52.277Z"
   },
   {
    "duration": 76,
    "start_time": "2023-04-15T12:06:53.299Z"
   },
   {
    "duration": 19,
    "start_time": "2023-04-15T12:06:53.377Z"
   },
   {
    "duration": 15,
    "start_time": "2023-04-15T12:06:53.397Z"
   },
   {
    "duration": 14,
    "start_time": "2023-04-15T12:06:53.413Z"
   },
   {
    "duration": 23,
    "start_time": "2023-04-15T12:06:53.428Z"
   },
   {
    "duration": 29,
    "start_time": "2023-04-15T12:06:53.453Z"
   },
   {
    "duration": 48,
    "start_time": "2023-04-15T12:06:53.484Z"
   },
   {
    "duration": 156,
    "start_time": "2023-04-15T12:06:53.534Z"
   },
   {
    "duration": 266,
    "start_time": "2023-04-15T12:06:53.692Z"
   },
   {
    "duration": 245,
    "start_time": "2023-04-15T12:06:53.960Z"
   },
   {
    "duration": 377,
    "start_time": "2023-04-15T12:06:54.207Z"
   },
   {
    "duration": 309,
    "start_time": "2023-04-15T12:06:54.586Z"
   },
   {
    "duration": 380,
    "start_time": "2023-04-15T12:06:54.897Z"
   },
   {
    "duration": 207,
    "start_time": "2023-04-15T12:06:55.278Z"
   },
   {
    "duration": 4,
    "start_time": "2023-04-15T12:06:55.486Z"
   },
   {
    "duration": 133,
    "start_time": "2023-04-15T12:06:55.491Z"
   },
   {
    "duration": 4,
    "start_time": "2023-04-15T12:06:55.626Z"
   },
   {
    "duration": 201,
    "start_time": "2023-04-15T12:06:55.631Z"
   },
   {
    "duration": 144,
    "start_time": "2023-04-15T12:06:55.834Z"
   },
   {
    "duration": 21,
    "start_time": "2023-04-15T12:06:55.980Z"
   },
   {
    "duration": 9,
    "start_time": "2023-04-15T12:06:56.003Z"
   },
   {
    "duration": 10,
    "start_time": "2023-04-15T12:06:56.013Z"
   },
   {
    "duration": 41,
    "start_time": "2023-04-15T12:06:56.025Z"
   },
   {
    "duration": 13,
    "start_time": "2023-04-15T12:06:56.067Z"
   },
   {
    "duration": 9,
    "start_time": "2023-04-15T12:22:08.913Z"
   },
   {
    "duration": 10,
    "start_time": "2023-04-15T12:22:29.309Z"
   },
   {
    "duration": 11,
    "start_time": "2023-04-15T12:32:35.895Z"
   },
   {
    "duration": 1061,
    "start_time": "2023-04-16T20:55:19.626Z"
   },
   {
    "duration": 76,
    "start_time": "2023-04-16T20:55:20.689Z"
   },
   {
    "duration": 21,
    "start_time": "2023-04-16T20:55:20.767Z"
   },
   {
    "duration": 15,
    "start_time": "2023-04-16T20:55:20.790Z"
   },
   {
    "duration": 24,
    "start_time": "2023-04-16T20:55:20.808Z"
   },
   {
    "duration": 15,
    "start_time": "2023-04-16T20:55:20.834Z"
   },
   {
    "duration": 4,
    "start_time": "2023-04-16T20:55:20.850Z"
   },
   {
    "duration": 95,
    "start_time": "2023-04-16T20:55:20.856Z"
   },
   {
    "duration": 8,
    "start_time": "2023-04-16T20:55:20.953Z"
   },
   {
    "duration": 23,
    "start_time": "2023-04-16T20:55:20.963Z"
   },
   {
    "duration": 13,
    "start_time": "2023-04-16T20:55:20.987Z"
   },
   {
    "duration": 47,
    "start_time": "2023-04-16T20:55:21.002Z"
   },
   {
    "duration": 300,
    "start_time": "2023-04-16T20:55:21.051Z"
   },
   {
    "duration": 285,
    "start_time": "2023-04-16T20:55:21.355Z"
   },
   {
    "duration": 210,
    "start_time": "2023-04-16T20:55:21.642Z"
   },
   {
    "duration": 298,
    "start_time": "2023-04-16T20:55:21.853Z"
   },
   {
    "duration": 217,
    "start_time": "2023-04-16T20:55:22.152Z"
   },
   {
    "duration": 310,
    "start_time": "2023-04-16T20:55:22.371Z"
   },
   {
    "duration": 239,
    "start_time": "2023-04-16T20:55:22.683Z"
   },
   {
    "duration": 5,
    "start_time": "2023-04-16T20:55:22.924Z"
   },
   {
    "duration": 161,
    "start_time": "2023-04-16T20:55:22.932Z"
   },
   {
    "duration": 4,
    "start_time": "2023-04-16T20:55:23.095Z"
   },
   {
    "duration": 224,
    "start_time": "2023-04-16T20:55:23.101Z"
   },
   {
    "duration": 152,
    "start_time": "2023-04-16T20:55:23.327Z"
   },
   {
    "duration": 23,
    "start_time": "2023-04-16T20:55:23.480Z"
   },
   {
    "duration": 10,
    "start_time": "2023-04-16T20:55:23.504Z"
   },
   {
    "duration": 33,
    "start_time": "2023-04-16T20:55:23.516Z"
   },
   {
    "duration": 28,
    "start_time": "2023-04-16T20:55:23.551Z"
   },
   {
    "duration": 13,
    "start_time": "2023-04-16T20:55:23.581Z"
   },
   {
    "duration": 16,
    "start_time": "2023-04-16T20:56:19.849Z"
   },
   {
    "duration": 11,
    "start_time": "2023-04-16T20:57:17.045Z"
   },
   {
    "duration": 8,
    "start_time": "2023-04-16T20:57:33.821Z"
   },
   {
    "duration": 10,
    "start_time": "2023-04-16T20:59:01.213Z"
   },
   {
    "duration": 7,
    "start_time": "2023-04-16T20:59:22.420Z"
   },
   {
    "duration": 50,
    "start_time": "2023-04-17T04:40:39.496Z"
   },
   {
    "duration": 1190,
    "start_time": "2023-04-17T04:40:51.720Z"
   },
   {
    "duration": 250,
    "start_time": "2023-04-17T04:40:52.912Z"
   },
   {
    "duration": 28,
    "start_time": "2023-04-17T04:40:53.163Z"
   },
   {
    "duration": 21,
    "start_time": "2023-04-17T04:40:53.193Z"
   },
   {
    "duration": 15,
    "start_time": "2023-04-17T04:40:53.215Z"
   },
   {
    "duration": 9,
    "start_time": "2023-04-17T04:40:53.231Z"
   },
   {
    "duration": 5,
    "start_time": "2023-04-17T04:40:53.241Z"
   },
   {
    "duration": 94,
    "start_time": "2023-04-17T04:40:53.247Z"
   },
   {
    "duration": 8,
    "start_time": "2023-04-17T04:40:53.343Z"
   },
   {
    "duration": 12,
    "start_time": "2023-04-17T04:40:53.354Z"
   },
   {
    "duration": 28,
    "start_time": "2023-04-17T04:40:53.367Z"
   },
   {
    "duration": 14,
    "start_time": "2023-04-17T04:40:53.396Z"
   },
   {
    "duration": 7,
    "start_time": "2023-04-17T04:40:53.411Z"
   },
   {
    "duration": 11,
    "start_time": "2023-04-17T04:40:53.419Z"
   },
   {
    "duration": 13,
    "start_time": "2023-04-17T04:40:53.431Z"
   },
   {
    "duration": 18,
    "start_time": "2023-04-17T04:40:53.445Z"
   },
   {
    "duration": 268,
    "start_time": "2023-04-17T04:40:53.464Z"
   },
   {
    "duration": 263,
    "start_time": "2023-04-17T04:40:53.733Z"
   },
   {
    "duration": 189,
    "start_time": "2023-04-17T04:40:53.997Z"
   },
   {
    "duration": 331,
    "start_time": "2023-04-17T04:40:54.188Z"
   },
   {
    "duration": 195,
    "start_time": "2023-04-17T04:40:54.520Z"
   },
   {
    "duration": 272,
    "start_time": "2023-04-17T04:40:54.716Z"
   },
   {
    "duration": 223,
    "start_time": "2023-04-17T04:40:54.990Z"
   },
   {
    "duration": 5,
    "start_time": "2023-04-17T04:40:55.215Z"
   },
   {
    "duration": 139,
    "start_time": "2023-04-17T04:40:55.221Z"
   },
   {
    "duration": 3,
    "start_time": "2023-04-17T04:40:55.362Z"
   },
   {
    "duration": 218,
    "start_time": "2023-04-17T04:40:55.372Z"
   },
   {
    "duration": 143,
    "start_time": "2023-04-17T04:40:55.593Z"
   },
   {
    "duration": 20,
    "start_time": "2023-04-17T04:40:55.738Z"
   },
   {
    "duration": 29,
    "start_time": "2023-04-17T04:40:55.759Z"
   },
   {
    "duration": 16,
    "start_time": "2023-04-17T04:40:55.789Z"
   },
   {
    "duration": 30,
    "start_time": "2023-04-17T04:40:55.807Z"
   },
   {
    "duration": 11,
    "start_time": "2023-04-17T04:40:55.839Z"
   },
   {
    "duration": 10,
    "start_time": "2023-04-17T04:41:12.186Z"
   },
   {
    "duration": 8,
    "start_time": "2023-04-17T04:41:51.801Z"
   },
   {
    "duration": 13,
    "start_time": "2023-04-17T04:42:01.702Z"
   },
   {
    "duration": 17,
    "start_time": "2023-04-17T04:42:06.871Z"
   },
   {
    "duration": 15,
    "start_time": "2023-04-17T04:42:56.785Z"
   },
   {
    "duration": 8,
    "start_time": "2023-04-17T04:43:05.111Z"
   },
   {
    "duration": 9,
    "start_time": "2023-04-17T05:28:34.293Z"
   },
   {
    "duration": 27,
    "start_time": "2023-04-17T05:28:42.349Z"
   },
   {
    "duration": 78,
    "start_time": "2023-04-17T05:29:09.545Z"
   },
   {
    "duration": 15,
    "start_time": "2023-04-17T05:29:43.379Z"
   },
   {
    "duration": 20,
    "start_time": "2023-04-17T05:30:21.078Z"
   },
   {
    "duration": 16,
    "start_time": "2023-04-17T05:30:37.132Z"
   },
   {
    "duration": 13,
    "start_time": "2023-04-17T05:30:53.091Z"
   },
   {
    "duration": 10,
    "start_time": "2023-04-17T05:31:00.849Z"
   },
   {
    "duration": 9,
    "start_time": "2023-04-17T05:31:58.386Z"
   },
   {
    "duration": 11,
    "start_time": "2023-04-17T05:37:42.151Z"
   },
   {
    "duration": 22,
    "start_time": "2023-04-17T05:38:54.885Z"
   },
   {
    "duration": 2471,
    "start_time": "2023-04-17T05:39:07.886Z"
   },
   {
    "duration": 21,
    "start_time": "2023-04-17T05:39:27.868Z"
   },
   {
    "duration": 10,
    "start_time": "2023-04-17T05:41:57.711Z"
   },
   {
    "duration": 13,
    "start_time": "2023-04-17T05:46:08.861Z"
   },
   {
    "duration": 13,
    "start_time": "2023-04-17T05:46:15.726Z"
   },
   {
    "duration": 11,
    "start_time": "2023-04-17T05:46:19.424Z"
   },
   {
    "duration": 73,
    "start_time": "2023-04-17T05:47:08.703Z"
   },
   {
    "duration": 12,
    "start_time": "2023-04-17T05:47:13.677Z"
   },
   {
    "duration": 14,
    "start_time": "2023-04-17T05:47:20.915Z"
   },
   {
    "duration": 5,
    "start_time": "2023-04-17T05:49:25.303Z"
   },
   {
    "duration": 6,
    "start_time": "2023-04-17T05:49:27.610Z"
   },
   {
    "duration": 7,
    "start_time": "2023-04-17T05:49:45.592Z"
   },
   {
    "duration": 6,
    "start_time": "2023-04-17T05:49:52.106Z"
   },
   {
    "duration": 15,
    "start_time": "2023-04-17T06:01:00.573Z"
   },
   {
    "duration": 3,
    "start_time": "2023-04-17T06:01:05.144Z"
   },
   {
    "duration": 85,
    "start_time": "2023-04-17T06:01:05.151Z"
   },
   {
    "duration": 14,
    "start_time": "2023-04-17T06:01:05.238Z"
   },
   {
    "duration": 16,
    "start_time": "2023-04-17T06:01:05.253Z"
   },
   {
    "duration": 15,
    "start_time": "2023-04-17T06:01:05.271Z"
   },
   {
    "duration": 9,
    "start_time": "2023-04-17T06:01:05.288Z"
   },
   {
    "duration": 37,
    "start_time": "2023-04-17T06:01:05.298Z"
   },
   {
    "duration": 101,
    "start_time": "2023-04-17T06:01:05.337Z"
   },
   {
    "duration": 11,
    "start_time": "2023-04-17T06:01:05.439Z"
   },
   {
    "duration": 51,
    "start_time": "2023-04-17T06:01:05.451Z"
   },
   {
    "duration": 47,
    "start_time": "2023-04-17T06:01:05.505Z"
   },
   {
    "duration": 27,
    "start_time": "2023-04-17T06:01:05.554Z"
   },
   {
    "duration": 12,
    "start_time": "2023-04-17T06:01:05.583Z"
   },
   {
    "duration": 17,
    "start_time": "2023-04-17T06:01:05.597Z"
   },
   {
    "duration": 9,
    "start_time": "2023-04-17T06:01:05.616Z"
   },
   {
    "duration": 25,
    "start_time": "2023-04-17T06:01:05.628Z"
   },
   {
    "duration": 328,
    "start_time": "2023-04-17T06:01:05.655Z"
   },
   {
    "duration": 242,
    "start_time": "2023-04-17T06:01:05.985Z"
   },
   {
    "duration": 206,
    "start_time": "2023-04-17T06:01:06.229Z"
   },
   {
    "duration": 312,
    "start_time": "2023-04-17T06:01:06.437Z"
   },
   {
    "duration": 196,
    "start_time": "2023-04-17T06:01:06.751Z"
   },
   {
    "duration": 303,
    "start_time": "2023-04-17T06:01:06.949Z"
   },
   {
    "duration": 227,
    "start_time": "2023-04-17T06:01:07.254Z"
   },
   {
    "duration": 4,
    "start_time": "2023-04-17T06:01:07.484Z"
   },
   {
    "duration": 149,
    "start_time": "2023-04-17T06:01:07.490Z"
   },
   {
    "duration": 4,
    "start_time": "2023-04-17T06:01:07.642Z"
   },
   {
    "duration": 229,
    "start_time": "2023-04-17T06:01:07.648Z"
   },
   {
    "duration": 144,
    "start_time": "2023-04-17T06:01:07.879Z"
   },
   {
    "duration": 21,
    "start_time": "2023-04-17T06:01:08.026Z"
   },
   {
    "duration": 25,
    "start_time": "2023-04-17T06:01:08.048Z"
   },
   {
    "duration": 9,
    "start_time": "2023-04-17T06:01:08.075Z"
   },
   {
    "duration": 41,
    "start_time": "2023-04-17T06:01:08.085Z"
   },
   {
    "duration": 14,
    "start_time": "2023-04-17T06:01:08.128Z"
   },
   {
    "duration": 8,
    "start_time": "2023-04-17T06:18:52.276Z"
   },
   {
    "duration": 3,
    "start_time": "2023-04-17T06:18:56.951Z"
   },
   {
    "duration": 76,
    "start_time": "2023-04-17T06:18:56.958Z"
   },
   {
    "duration": 14,
    "start_time": "2023-04-17T06:18:57.035Z"
   },
   {
    "duration": 16,
    "start_time": "2023-04-17T06:18:57.050Z"
   },
   {
    "duration": 13,
    "start_time": "2023-04-17T06:18:57.068Z"
   },
   {
    "duration": 4,
    "start_time": "2023-04-17T06:18:57.083Z"
   },
   {
    "duration": 8,
    "start_time": "2023-04-17T06:18:57.088Z"
   },
   {
    "duration": 86,
    "start_time": "2023-04-17T06:18:57.098Z"
   },
   {
    "duration": 8,
    "start_time": "2023-04-17T06:18:57.185Z"
   },
   {
    "duration": 8,
    "start_time": "2023-04-17T06:18:57.194Z"
   },
   {
    "duration": 7,
    "start_time": "2023-04-17T06:18:57.204Z"
   },
   {
    "duration": 7,
    "start_time": "2023-04-17T06:18:57.212Z"
   },
   {
    "duration": 6,
    "start_time": "2023-04-17T06:18:57.221Z"
   },
   {
    "duration": 7,
    "start_time": "2023-04-17T06:18:57.228Z"
   },
   {
    "duration": 8,
    "start_time": "2023-04-17T06:18:57.271Z"
   },
   {
    "duration": 19,
    "start_time": "2023-04-17T06:18:57.280Z"
   },
   {
    "duration": 254,
    "start_time": "2023-04-17T06:18:57.301Z"
   },
   {
    "duration": 176,
    "start_time": "2023-04-17T06:18:57.557Z"
   },
   {
    "duration": 180,
    "start_time": "2023-04-17T06:18:57.734Z"
   },
   {
    "duration": 244,
    "start_time": "2023-04-17T06:18:57.915Z"
   },
   {
    "duration": 187,
    "start_time": "2023-04-17T06:18:58.160Z"
   },
   {
    "duration": 291,
    "start_time": "2023-04-17T06:18:58.348Z"
   },
   {
    "duration": 226,
    "start_time": "2023-04-17T06:18:58.640Z"
   },
   {
    "duration": 6,
    "start_time": "2023-04-17T06:18:58.867Z"
   },
   {
    "duration": 127,
    "start_time": "2023-04-17T06:18:58.875Z"
   },
   {
    "duration": 4,
    "start_time": "2023-04-17T06:18:59.004Z"
   },
   {
    "duration": 194,
    "start_time": "2023-04-17T06:18:59.009Z"
   },
   {
    "duration": 124,
    "start_time": "2023-04-17T06:18:59.204Z"
   },
   {
    "duration": 21,
    "start_time": "2023-04-17T06:18:59.330Z"
   },
   {
    "duration": 25,
    "start_time": "2023-04-17T06:18:59.352Z"
   },
   {
    "duration": 10,
    "start_time": "2023-04-17T06:18:59.378Z"
   },
   {
    "duration": 29,
    "start_time": "2023-04-17T06:18:59.389Z"
   },
   {
    "duration": 10,
    "start_time": "2023-04-17T06:18:59.419Z"
   },
   {
    "duration": 3,
    "start_time": "2023-04-17T06:49:05.384Z"
   },
   {
    "duration": 87,
    "start_time": "2023-04-17T06:49:05.395Z"
   },
   {
    "duration": 19,
    "start_time": "2023-04-17T06:49:05.484Z"
   },
   {
    "duration": 19,
    "start_time": "2023-04-17T06:49:05.505Z"
   },
   {
    "duration": 21,
    "start_time": "2023-04-17T06:49:05.525Z"
   },
   {
    "duration": 14,
    "start_time": "2023-04-17T06:49:05.548Z"
   },
   {
    "duration": 21,
    "start_time": "2023-04-17T06:49:05.563Z"
   },
   {
    "duration": 87,
    "start_time": "2023-04-17T06:49:05.586Z"
   },
   {
    "duration": 9,
    "start_time": "2023-04-17T06:49:05.675Z"
   },
   {
    "duration": 20,
    "start_time": "2023-04-17T06:49:05.685Z"
   },
   {
    "duration": 29,
    "start_time": "2023-04-17T06:49:05.710Z"
   },
   {
    "duration": 21,
    "start_time": "2023-04-17T06:49:05.740Z"
   },
   {
    "duration": 12,
    "start_time": "2023-04-17T06:49:05.763Z"
   },
   {
    "duration": 31,
    "start_time": "2023-04-17T06:49:05.777Z"
   },
   {
    "duration": 13,
    "start_time": "2023-04-17T06:49:05.812Z"
   },
   {
    "duration": 22,
    "start_time": "2023-04-17T06:49:05.827Z"
   },
   {
    "duration": 263,
    "start_time": "2023-04-17T06:49:05.851Z"
   },
   {
    "duration": 261,
    "start_time": "2023-04-17T06:49:06.115Z"
   },
   {
    "duration": 287,
    "start_time": "2023-04-17T06:49:06.379Z"
   },
   {
    "duration": 326,
    "start_time": "2023-04-17T06:49:06.668Z"
   },
   {
    "duration": 224,
    "start_time": "2023-04-17T06:49:06.996Z"
   },
   {
    "duration": 306,
    "start_time": "2023-04-17T06:49:07.222Z"
   },
   {
    "duration": 261,
    "start_time": "2023-04-17T06:49:07.530Z"
   },
   {
    "duration": 5,
    "start_time": "2023-04-17T06:49:07.792Z"
   },
   {
    "duration": 150,
    "start_time": "2023-04-17T06:49:07.799Z"
   },
   {
    "duration": 4,
    "start_time": "2023-04-17T06:49:07.951Z"
   },
   {
    "duration": 235,
    "start_time": "2023-04-17T06:49:07.957Z"
   },
   {
    "duration": 157,
    "start_time": "2023-04-17T06:49:08.193Z"
   },
   {
    "duration": 31,
    "start_time": "2023-04-17T06:49:08.352Z"
   },
   {
    "duration": 9,
    "start_time": "2023-04-17T06:49:08.385Z"
   },
   {
    "duration": 10,
    "start_time": "2023-04-17T06:49:08.396Z"
   },
   {
    "duration": 28,
    "start_time": "2023-04-17T06:49:08.407Z"
   },
   {
    "duration": 47,
    "start_time": "2023-04-17T06:49:08.437Z"
   },
   {
    "duration": 4,
    "start_time": "2023-04-17T06:50:42.022Z"
   },
   {
    "duration": 75,
    "start_time": "2023-04-17T06:50:42.030Z"
   },
   {
    "duration": 16,
    "start_time": "2023-04-17T06:50:42.107Z"
   },
   {
    "duration": 23,
    "start_time": "2023-04-17T06:50:42.124Z"
   },
   {
    "duration": 30,
    "start_time": "2023-04-17T06:50:42.149Z"
   },
   {
    "duration": 21,
    "start_time": "2023-04-17T06:50:42.182Z"
   },
   {
    "duration": 58,
    "start_time": "2023-04-17T06:50:42.206Z"
   },
   {
    "duration": 105,
    "start_time": "2023-04-17T06:50:42.266Z"
   },
   {
    "duration": 9,
    "start_time": "2023-04-17T06:50:42.373Z"
   },
   {
    "duration": 13,
    "start_time": "2023-04-17T06:50:42.383Z"
   },
   {
    "duration": 9,
    "start_time": "2023-04-17T06:50:42.398Z"
   },
   {
    "duration": 9,
    "start_time": "2023-04-17T06:50:42.409Z"
   },
   {
    "duration": 11,
    "start_time": "2023-04-17T06:50:42.419Z"
   },
   {
    "duration": 10,
    "start_time": "2023-04-17T06:50:42.431Z"
   },
   {
    "duration": 34,
    "start_time": "2023-04-17T06:50:42.443Z"
   },
   {
    "duration": 24,
    "start_time": "2023-04-17T06:50:42.479Z"
   },
   {
    "duration": 292,
    "start_time": "2023-04-17T06:50:42.504Z"
   },
   {
    "duration": 205,
    "start_time": "2023-04-17T06:50:42.797Z"
   },
   {
    "duration": 219,
    "start_time": "2023-04-17T06:50:43.005Z"
   },
   {
    "duration": 282,
    "start_time": "2023-04-17T06:50:43.226Z"
   },
   {
    "duration": 218,
    "start_time": "2023-04-17T06:50:43.510Z"
   },
   {
    "duration": 270,
    "start_time": "2023-04-17T06:50:43.729Z"
   },
   {
    "duration": 226,
    "start_time": "2023-04-17T06:50:44.001Z"
   },
   {
    "duration": 4,
    "start_time": "2023-04-17T06:50:44.228Z"
   },
   {
    "duration": 139,
    "start_time": "2023-04-17T06:50:44.233Z"
   },
   {
    "duration": 4,
    "start_time": "2023-04-17T06:50:44.374Z"
   },
   {
    "duration": 207,
    "start_time": "2023-04-17T06:50:44.379Z"
   },
   {
    "duration": 121,
    "start_time": "2023-04-17T06:50:44.588Z"
   },
   {
    "duration": 20,
    "start_time": "2023-04-17T06:50:44.711Z"
   },
   {
    "duration": 8,
    "start_time": "2023-04-17T06:50:44.733Z"
   },
   {
    "duration": 40,
    "start_time": "2023-04-17T06:50:44.743Z"
   },
   {
    "duration": 64,
    "start_time": "2023-04-17T06:50:44.785Z"
   },
   {
    "duration": 13,
    "start_time": "2023-04-17T06:50:44.851Z"
   },
   {
    "duration": 1341,
    "start_time": "2023-04-17T22:05:13.871Z"
   },
   {
    "duration": 233,
    "start_time": "2023-04-17T22:05:15.216Z"
   },
   {
    "duration": 21,
    "start_time": "2023-04-17T22:05:15.451Z"
   },
   {
    "duration": 15,
    "start_time": "2023-04-17T22:05:15.474Z"
   },
   {
    "duration": 16,
    "start_time": "2023-04-17T22:05:15.492Z"
   },
   {
    "duration": 9,
    "start_time": "2023-04-17T22:05:15.510Z"
   },
   {
    "duration": 21,
    "start_time": "2023-04-17T22:05:15.520Z"
   },
   {
    "duration": 101,
    "start_time": "2023-04-17T22:05:15.543Z"
   },
   {
    "duration": 10,
    "start_time": "2023-04-17T22:05:15.645Z"
   },
   {
    "duration": 24,
    "start_time": "2023-04-17T22:05:15.657Z"
   },
   {
    "duration": 17,
    "start_time": "2023-04-17T22:05:15.683Z"
   },
   {
    "duration": 14,
    "start_time": "2023-04-17T22:05:15.702Z"
   },
   {
    "duration": 7,
    "start_time": "2023-04-17T22:05:15.717Z"
   },
   {
    "duration": 16,
    "start_time": "2023-04-17T22:05:15.727Z"
   },
   {
    "duration": 6,
    "start_time": "2023-04-17T22:05:15.745Z"
   },
   {
    "duration": 40,
    "start_time": "2023-04-17T22:05:15.753Z"
   },
   {
    "duration": 310,
    "start_time": "2023-04-17T22:05:15.795Z"
   },
   {
    "duration": 320,
    "start_time": "2023-04-17T22:05:16.107Z"
   },
   {
    "duration": 225,
    "start_time": "2023-04-17T22:05:16.429Z"
   },
   {
    "duration": 372,
    "start_time": "2023-04-17T22:05:16.656Z"
   },
   {
    "duration": 237,
    "start_time": "2023-04-17T22:05:17.030Z"
   },
   {
    "duration": 287,
    "start_time": "2023-04-17T22:05:17.268Z"
   },
   {
    "duration": 266,
    "start_time": "2023-04-17T22:05:17.557Z"
   },
   {
    "duration": 4,
    "start_time": "2023-04-17T22:05:17.825Z"
   },
   {
    "duration": 160,
    "start_time": "2023-04-17T22:05:17.831Z"
   },
   {
    "duration": 5,
    "start_time": "2023-04-17T22:05:17.994Z"
   },
   {
    "duration": 325,
    "start_time": "2023-04-17T22:05:18.011Z"
   },
   {
    "duration": 197,
    "start_time": "2023-04-17T22:05:18.338Z"
   },
   {
    "duration": 26,
    "start_time": "2023-04-17T22:05:18.537Z"
   },
   {
    "duration": 13,
    "start_time": "2023-04-17T22:05:18.565Z"
   },
   {
    "duration": 39,
    "start_time": "2023-04-17T22:05:18.580Z"
   },
   {
    "duration": 31,
    "start_time": "2023-04-17T22:05:18.621Z"
   },
   {
    "duration": 18,
    "start_time": "2023-04-17T22:05:18.653Z"
   }
  ],
  "kernelspec": {
   "display_name": "Python 3 (ipykernel)",
   "language": "python",
   "name": "python3"
  },
  "language_info": {
   "codemirror_mode": {
    "name": "ipython",
    "version": 3
   },
   "file_extension": ".py",
   "mimetype": "text/x-python",
   "name": "python",
   "nbconvert_exporter": "python",
   "pygments_lexer": "ipython3",
   "version": "3.9.13"
  },
  "toc": {
   "base_numbering": 1,
   "nav_menu": {},
   "number_sections": true,
   "sideBar": true,
   "skip_h1_title": true,
   "title_cell": "Table of Contents",
   "title_sidebar": "Contents",
   "toc_cell": false,
   "toc_position": {},
   "toc_section_display": true,
   "toc_window_display": false
  }
 },
 "nbformat": 4,
 "nbformat_minor": 5
}
